{
 "cells": [
  {
   "cell_type": "markdown",
   "metadata": {},
   "source": [
    "### 載入套件"
   ]
  },
  {
   "cell_type": "code",
   "execution_count": 1,
   "metadata": {},
   "outputs": [],
   "source": [
    "import os\n",
    "import sys\n",
    "import cv2\n",
    "import pafy\n",
    "import json\n",
    "from time import time\n",
    "\n",
    "dir_path = os.getcwd()\n",
    "sys.path.append(dir_path + r'\\build\\python\\openpose\\Release')\n",
    "os.environ['PATH'] = os.environ['PATH'] + ';' + dir_path + r'\\build\\x64\\Release;' + dir_path + r'\\build\\bin;'\n",
    "import pyopenpose as op"
   ]
  },
  {
   "cell_type": "markdown",
   "metadata": {},
   "source": [
    "### 路徑、參數設定及初始化"
   ]
  },
  {
   "cell_type": "code",
   "execution_count": 2,
   "metadata": {},
   "outputs": [],
   "source": [
    "img_path = r'.\\media\\images'\n",
    "vid_path = r'.\\media\\videos'\n",
    "json_file = r'..\\Unity\\OpenPose\\Assets\\Resources\\keypoints.json'\n",
    "\n",
    "params = dict()\n",
    "params['model_folder'] = r'.\\models\\\\'\n",
    "params['net_resolution'] = '240x240' # 16的倍數\n",
    "\n",
    "opWrapper = op.WrapperPython()\n",
    "opWrapper.configure(params)\n",
    "opWrapper.start()\n",
    "datum = op.Datum()"
   ]
  },
  {
   "cell_type": "markdown",
   "metadata": {},
   "source": [
    "### 函式"
   ]
  },
  {
   "cell_type": "code",
   "execution_count": 3,
   "metadata": {},
   "outputs": [],
   "source": [
    "def writeJson(opData):\n",
    "    kpData = []\n",
    "    pplData = []\n",
    "    \n",
    "    try:\n",
    "        for i in range(opData.shape[0]):\n",
    "            for j in range(25):\n",
    "                for k in range(3):\n",
    "                    kpData.append(float(opData[0, j, k]))        \n",
    "            pplData.append({'person_id': [i], 'pose_keypoints': kpData})        \n",
    "        jsonDict = {'people': pplData}\n",
    "    \n",
    "        with open(json_file, 'w', encoding = 'UTF-8') as file:\n",
    "            json.dump(jsonDict, file)\n",
    "            \n",
    "    except (AttributeError, PermissionError):\n",
    "        pass"
   ]
  },
  {
   "cell_type": "markdown",
   "metadata": {},
   "source": [
    "### 影片"
   ]
  },
  {
   "cell_type": "code",
   "execution_count": 31,
   "metadata": {},
   "outputs": [],
   "source": [
    "vidFile = 'JCF0NCNynrc.mp4'\n",
    "video = os.path.join(vid_path, vidFile)\n",
    "vid = cv2.VideoCapture(video)\n",
    "\n",
    "while True:\n",
    "    t_start = time()\n",
    "    ret, frame = vid.read()\n",
    "    if not ret:\n",
    "        break\n",
    "    frame = cv2.resize(frame, (1024, 576))\n",
    "    \n",
    "    datum.cvInputData = frame    \n",
    "    opWrapper.emplaceAndPop(op.VectorDatum([datum]))\n",
    "    cvOutput = datum.cvOutputData\n",
    "    \n",
    "    outputData = datum.poseKeypoints\n",
    "    writeJson(outputData)\n",
    "    \n",
    "    FPS = 1 / (time() - t_start)\n",
    "    \n",
    "    cv2.putText(cvOutput, 'FPS: %.1f' % FPS, (10, 35), cv2.FONT_HERSHEY_DUPLEX, 1, (0, 0, 0), 2, cv2.LINE_AA)\n",
    "    cv2.putText(cvOutput, 'FPS: %.1f' % FPS, (10, 35), cv2.FONT_HERSHEY_DUPLEX, 1, (255, 255, 255), 1, cv2.LINE_AA)\n",
    "    cv2.putText(cvOutput, 'Press \"Esc\" to stop.', (10, cvOutput.shape[0] - 11), cv2.FONT_HERSHEY_DUPLEX, 1, (0, 0, 0), 2, cv2.LINE_AA)\n",
    "    cv2.putText(cvOutput, 'Press \"Esc\" to stop.', (10, cvOutput.shape[0] - 11), cv2.FONT_HERSHEY_DUPLEX, 1, (255, 255, 255), 1, cv2.LINE_AA)\n",
    "    \n",
    "    cv2.imshow('OpenPose - Python API', cvOutput)\n",
    "    if cv2.waitKey(1) == 27: # 按Esc關閉\n",
    "        break\n",
    "        \n",
    "cv2.destroyAllWindows()"
   ]
  },
  {
   "cell_type": "markdown",
   "metadata": {},
   "source": [
    "### 下載影片"
   ]
  },
  {
   "cell_type": "code",
   "execution_count": 15,
   "metadata": {},
   "outputs": [
    {
     "name": "stdout",
     "output_type": "stream",
     "text": [
      "  5,873,123.0 Bytes [100.00%] received. Rate: [22584 KB/s].  ETA: [0 secs]    \n"
     ]
    }
   ],
   "source": [
    "url = 'https://www.youtube.com/watch?v=JCF0NCNynrc' # video url\n",
    "# ----------------------------------------------------------------------------------------------------- #\n",
    "video = pafy.new(url)\n",
    "fileName = video.videoid\n",
    "for vst in video.videostreams:\n",
    "    if str(vst) == 'video:mp4@1280x720':\n",
    "        video720p = vst # get resolution 1280x720 mp4\n",
    "        break\n",
    "# ----------------------------------------------------------------------------------------------------- #\n",
    "dl_path = os.path.join(vid_path, fileName + '.mp4')\n",
    "video720p.download(filepath = dl_path)"
   ]
  },
  {
   "cell_type": "markdown",
   "metadata": {},
   "source": [
    "### 圖片"
   ]
  },
  {
   "cell_type": "code",
   "execution_count": 4,
   "metadata": {
    "scrolled": true
   },
   "outputs": [],
   "source": [
    "#imgFile = ['COCO_val2014_000000000241.jpg', 'COCO_val2014_000000000459.jpg']\n",
    "imgFile = ['8404579123_a6815b6e1a_z.jpg']\n",
    "\n",
    "for image in imgFile:  \n",
    "    img = os.path.join(img_path, image)\n",
    "    datum.cvInputData = cv2.imread(img)\n",
    "    opWrapper.emplaceAndPop(op.VectorDatum([datum]))\n",
    "    \n",
    "    outputData = datum.poseKeypoints\n",
    "    writeJson(outputData)\n",
    "    \n",
    "    cv2.imshow('OpenPose - Python API', datum.cvOutputData)    \n",
    "    cv2.waitKey(0)\n",
    "    \n",
    "cv2.destroyAllWindows()"
   ]
  },
  {
   "cell_type": "code",
   "execution_count": null,
   "metadata": {},
   "outputs": [],
   "source": []
  }
 ],
 "metadata": {
  "kernelspec": {
   "display_name": "Python 3",
   "language": "python",
   "name": "python3"
  },
  "language_info": {
   "codemirror_mode": {
    "name": "ipython",
    "version": 3
   },
   "file_extension": ".py",
   "mimetype": "text/x-python",
   "name": "python",
   "nbconvert_exporter": "python",
   "pygments_lexer": "ipython3",
   "version": "3.8.5"
  }
 },
 "nbformat": 4,
 "nbformat_minor": 4
}
